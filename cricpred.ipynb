{
  "cells": [
    {
      "metadata": {
        "trusted": true
      },
      "cell_type": "code",
      "source": "def accuracy(y_test,y_pred,limit):\n    correct = 0\n\n    length = len(y_pred)\n    for i in range(0,length):\n        if(abs(y_pred[i]-y_test[i]) <= limit):\n            correct += 1\n    return ((correct/length)*100)",
      "execution_count": 1,
      "outputs": []
    },
    {
      "metadata": {
        "trusted": true
      },
      "cell_type": "code",
      "source": "import pandas as pd\n# Importing dataset\ndataset = pd.read_csv('t20.csv')\n# Attributes Used: Runs,Wickets,Overs,Striker,Non-striker\nX = dataset.iloc[:,[7,8,9,12,13]].values\n# Attributes Used: Total\ny = dataset.iloc[:, 14].values",
      "execution_count": 2,
      "outputs": []
    },
    {
      "metadata": {
        "trusted": true
      },
      "cell_type": "code",
      "source": "# Splitting into Training and Testing\nfrom sklearn.model_selection import train_test_split\nX_train, X_test, y_train, y_test = train_test_split(X, y, test_size = 0.25, random_state = 0)",
      "execution_count": 3,
      "outputs": []
    },
    {
      "metadata": {
        "trusted": true
      },
      "cell_type": "code",
      "source": "# Scaling\nfrom sklearn.preprocessing import StandardScaler\nsc = StandardScaler()\nX_train = sc.fit_transform(X_train)\nX_test = sc.transform(X_test)",
      "execution_count": 4,
      "outputs": []
    },
    {
      "metadata": {
        "trusted": true
      },
      "cell_type": "code",
      "source": "# Training\nfrom sklearn.linear_model import LinearRegression\nlin = LinearRegression()\nlin.fit(X_train,y_train)",
      "execution_count": 5,
      "outputs": [
        {
          "output_type": "execute_result",
          "execution_count": 5,
          "data": {
            "text/plain": "LinearRegression(copy_X=True, fit_intercept=True, n_jobs=None,\n         normalize=False)"
          },
          "metadata": {}
        }
      ]
    },
    {
      "metadata": {
        "trusted": true
      },
      "cell_type": "code",
      "source": "# Testing\ny_pred = lin.predict(X_test)\nscore = lin.score(X_test,y_test)*100\nprint(\"R square value:\" , score)\nprint(\"Accuracy:\" , accuracy(y_test,y_pred,20))\n",
      "execution_count": 6,
      "outputs": [
        {
          "output_type": "stream",
          "text": "R square value: 52.531187975912964\nAccuracy: 72.31552162849873\n",
          "name": "stdout"
        }
      ]
    },
    {
      "metadata": {
        "trusted": true
      },
      "cell_type": "code",
      "source": "import numpy as np\nnew_prediction = lin.predict(sc.transform(np.array([[103,0,13,50,50]])))\nprint(\"Prediction score:\" , new_prediction)",
      "execution_count": 7,
      "outputs": [
        {
          "output_type": "stream",
          "text": "Prediction score: [87.62653186]\n",
          "name": "stdout"
        },
        {
          "output_type": "stream",
          "text": "/home/nbuser/anaconda3_501/lib/python3.6/site-packages/sklearn/utils/validation.py:595: DataConversionWarning: Data with input dtype int64 was converted to float64 by StandardScaler.\n  warnings.warn(msg, DataConversionWarning)\n",
          "name": "stderr"
        }
      ]
    },
    {
      "metadata": {
        "trusted": true
      },
      "cell_type": "code",
      "source": "",
      "execution_count": null,
      "outputs": []
    }
  ],
  "metadata": {
    "kernelspec": {
      "name": "python36",
      "display_name": "Python 3.6",
      "language": "python"
    },
    "language_info": {
      "mimetype": "text/x-python",
      "nbconvert_exporter": "python",
      "name": "python",
      "pygments_lexer": "ipython3",
      "version": "3.6.6",
      "file_extension": ".py",
      "codemirror_mode": {
        "version": 3,
        "name": "ipython"
      }
    }
  },
  "nbformat": 4,
  "nbformat_minor": 2
}